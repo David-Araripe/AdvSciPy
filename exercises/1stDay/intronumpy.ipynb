{
 "metadata": {
  "language_info": {
   "codemirror_mode": {
    "name": "ipython",
    "version": 3
   },
   "file_extension": ".py",
   "mimetype": "text/x-python",
   "name": "python",
   "nbconvert_exporter": "python",
   "pygments_lexer": "ipython3",
   "version": "3.6.12-final"
  },
  "orig_nbformat": 2,
  "kernelspec": {
   "name": "python3",
   "display_name": "Python 3.6.12 64-bit ('molscore': conda)",
   "metadata": {
    "interpreter": {
     "hash": "674e30e06e9dcd8d07242a91f5b03093c53e23b908bf99b1f20d940fc7ac7ab1"
    }
   }
  }
 },
 "nbformat": 4,
 "nbformat_minor": 2,
 "cells": [
  {
   "cell_type": "code",
   "execution_count": 2,
   "metadata": {},
   "outputs": [
    {
     "output_type": "stream",
     "name": "stdout",
     "text": [
      "Median height of goalkeepers: 179.8387995964519\nMedian height of other players: 180.64931192489527\nThe median goalkeepers height is not bigger than that of the other players\n"
     ]
    }
   ],
   "source": [
    "import numpy as np\n",
    "\n",
    "def load_data():    \n",
    "    # Goalkeeper, defender, midfielder, attacker\n",
    "    possible_positions = ['GK', 'D', 'M', 'A']\n",
    "    N = 100\n",
    "    positions = []\n",
    "    heights = []\n",
    "    for i in range(0,N):\n",
    "        positions.append(possible_positions[np.random.randint(len(possible_positions))]) # This np.random.randint randomly picks an interger from within the range that was metioned. In this case from 0 to 4, being 0 the default if the parameter high==None\n",
    "        heights.append(np.random.normal(loc=180.0,scale=5.0)) # This one draws random samples from a normal (Gaussian) distribution. Maybe I could plot the values for each player to check what are the consequences of these distributions.\n",
    "    return positions, heights # This function returns two lists!\n",
    "\n",
    "positions, heights = load_data()\n",
    "\n",
    "np_positions = np.array(positions)\n",
    "np_heights = np.array(heights)\n",
    "\n",
    "# Heights of the goalkeepers: gk_heights\n",
    "gk_heights = np_heights[np_positions == 'GK']\n",
    "\n",
    "# Heights of the other players: other_heights\n",
    "other_heights = np_heights[np_positions != 'GK']\n",
    "\n",
    "# Print out the median height of goalkeepers.\n",
    "print(\"Median height of goalkeepers: \" + str(np.median(gk_heights)))\n",
    "\n",
    "# Print out the median height of other players.\n",
    "print(\"Median height of other players: \" + str(np.median(other_heights)))\n",
    "\n",
    "if(np.median(gk_heights) > np.median(other_heights)):\n",
    "    print(\"The median goalkeepers height is bigger than that of the other players\")\n",
    "else:\n",
    "    print(\"The median goalkeepers height is not bigger than that of the other players\")"
   ]
  },
  {
   "cell_type": "code",
   "execution_count": 12,
   "metadata": {},
   "outputs": [],
   "source": [
    "### Exploring dataframes with the data generated from the above example ###\n",
    "\n",
    "import pandas as pd\n",
    "\n",
    "# First method: Creating a dataframe from a dictionary\n",
    "dictionary = {'positions':positions, 'height':heights}\n",
    "df = pd.DataFrame(dictionary)\n",
    "\n",
    "# Second method: Create a dataframe from lists using zip\n",
    "data_tuples = list(zip(positions, heights)) # This creates a list of tuples!\n",
    "df = pd.DataFrame(data_tuples, columns=['positions', 'heights']) # I can also just make the dataframe without assigning it to any variable\n",
    "\n",
    "# Third method: Creating a datafram from scratch\n",
    "df = pd.DataFrame()\n",
    "df['positions'] = positions\n",
    "df['heights'] = heights"
   ]
  },
  {
   "cell_type": "code",
   "execution_count": null,
   "metadata": {},
   "outputs": [],
   "source": []
  },
  {
   "cell_type": "code",
   "execution_count": null,
   "metadata": {},
   "outputs": [],
   "source": [
    "### The aim of this introduction is to understand every bit of the previously stated code ###\n",
    "\n",
    "# I have just looked at the code and I already understand...\n",
    "\n",
    "\"\"\"\n",
    "Only thing that was a bit challenging was getting familiar with the numpy functions as I didn't know them from before. After seeing what each one of them did I could understand how it works.\n",
    "\n",
    "\"\"\""
   ]
  }
 ]
}